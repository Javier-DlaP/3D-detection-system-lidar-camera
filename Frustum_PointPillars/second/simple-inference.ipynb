{
 "cells": [
  {
   "cell_type": "code",
   "execution_count": 64,
   "metadata": {},
   "outputs": [
    {
     "name": "stdout",
     "output_type": "stream",
     "text": [
      "The autoreload extension is already loaded. To reload it, use:\n",
      "  %reload_ext autoreload\n"
     ]
    }
   ],
   "source": [
    "%load_ext autoreload\n",
    "%autoreload 2\n",
    "%matplotlib inline\n",
    "import numpy as np\n",
    "import matplotlib.pyplot as plt\n",
    "import pickle\n",
    "from pathlib import Path\n",
    "from time import time"
   ]
  },
  {
   "cell_type": "code",
   "execution_count": 65,
   "metadata": {},
   "outputs": [],
   "source": [
    "import torch\n",
    "from torch.utils.data import DataLoader\n",
    "from google.protobuf import text_format\n",
    "from second.utils import simplevis\n",
    "from second.pytorch.train import build_network, example_convert_to_torch\n",
    "from second.protos import pipeline_pb2\n",
    "from second.utils import config_tool\n",
    "from second.pytorch.builder.input_reader_builder import DatasetWrapper\n",
    "from second.data.preprocess import merge_second_batch\n",
    "from second.data.inference_dataset import InferDataset"
   ]
  },
  {
   "cell_type": "markdown",
   "metadata": {},
   "source": [
    "## Read Config file"
   ]
  },
  {
   "cell_type": "code",
   "execution_count": 3,
   "metadata": {},
   "outputs": [],
   "source": [
    "saved_model_path = \"/home/robesafe/Javier/Frustum_PointPillars/second/saved_models/frustum_pointpillars_all_12_base/\"\n",
    "config_path = saved_model_path+\"pipeline.config\"\n",
    "config = pipeline_pb2.TrainEvalPipelineConfig()\n",
    "with open(config_path, \"r\") as f:\n",
    "    proto_str = f.read()\n",
    "    text_format.Merge(proto_str, config)\n",
    "input_cfg = config.eval_input_reader\n",
    "model_cfg = config.model.second\n",
    "#config_tool.change_detection_range(model_cfg, [-50, -50, 50, 50])\n",
    "device = torch.device(\"cuda\" if torch.cuda.is_available() else \"cpu\")\n",
    "# device = torch.device(\"cpu\")"
   ]
  },
  {
   "cell_type": "markdown",
   "metadata": {},
   "source": [
    "## Build Network, Target Assigner and Voxel Generator"
   ]
  },
  {
   "cell_type": "code",
   "execution_count": 4,
   "metadata": {},
   "outputs": [],
   "source": [
    "train_cfg = config.train_config\n",
    "\n",
    "ckpt_path = saved_model_path+\"voxelnet-321600.tckpt\"\n",
    "net = build_network(model_cfg).to(device).eval()\n",
    "net.load_state_dict(torch.load(ckpt_path))\n",
    "if train_cfg.enable_mixed_precision:\n",
    "    net.half()\n",
    "    print(\"half inference!\")\n",
    "    net.metrics_to_float()\n",
    "    net.convert_norm_to_float(net)\n",
    "target_assigner = net.target_assigner\n",
    "voxel_generator = net.voxel_generator"
   ]
  },
  {
   "cell_type": "markdown",
   "metadata": {},
   "source": [
    "## Generate Anchors"
   ]
  },
  {
   "cell_type": "code",
   "execution_count": 5,
   "metadata": {},
   "outputs": [],
   "source": [
    "grid_size = voxel_generator.grid_size\n",
    "feature_map_size = grid_size[:2] // config_tool.get_downsample_factor(model_cfg)\n",
    "feature_map_size = [*feature_map_size, 1][::-1]\n",
    "\n",
    "anchors = target_assigner.generate_anchors(feature_map_size)[\"anchors\"]\n",
    "anchors = torch.tensor(anchors, dtype=torch.float32, device=device)\n",
    "#anchors = anchors.view(1, -1, 7)"
   ]
  },
  {
   "cell_type": "markdown",
   "metadata": {},
   "source": [
    "## Read KITTI infos\n",
    "you can load your custom point cloud."
   ]
  },
  {
   "cell_type": "code",
   "execution_count": 6,
   "metadata": {},
   "outputs": [],
   "source": [
    "# info_path = input_cfg.dataset.kitti_info_path\n",
    "# train_cfg = config.train_config\n",
    "# root_path = Path(input_cfg.dataset.kitti_root_path)\n",
    "# with open(info_path, 'rb') as f:\n",
    "#     infos = pickle.load(f)"
   ]
  },
  {
   "cell_type": "markdown",
   "metadata": {},
   "source": [
    "## Load Point Cloud, Generate Voxels"
   ]
  },
  {
   "cell_type": "code",
   "execution_count": 35,
   "metadata": {},
   "outputs": [],
   "source": [
    "id = 3\n",
    "v_path = \"/media/robesafe/SSD_SATA/KITTI_DATASET/training/velodyne/\"+'%06d'%id+\".bin\"\n",
    "points = np.fromfile(v_path, dtype=np.float32, count=-1).reshape([-1, 4])\n",
    "dict_voxel = voxel_generator.generate(points, max_voxels=2048)\n",
    "#voxels, coords, num_points = dict_voxel['voxels'], dict_voxel['coordinates'], dict_voxel['num_points_per_voxel']\n",
    "\n",
    "coords = np.pad(dict_voxel['coordinates'], ((0, 0), (1, 0)), mode='constant', constant_values=0)\n",
    "coords = torch.tensor(coords, dtype=torch.int32, device=device)\n",
    "voxels = torch.tensor(dict_voxel['voxels'], dtype=torch.float32, device=device)\n",
    "num_voxels = torch.tensor(dict_voxel['voxel_num'], dtype=torch.float32, device=device)\n",
    "num_points = torch.tensor(dict_voxel['num_points_per_voxel'], dtype=torch.int32, device=device)"
   ]
  },
  {
   "cell_type": "markdown",
   "metadata": {},
   "source": [
    "## Detection"
   ]
  },
  {
   "cell_type": "markdown",
   "metadata": {},
   "source": [
    "### Pointcloud after pointcloud"
   ]
  },
  {
   "cell_type": "code",
   "execution_count": 7,
   "metadata": {},
   "outputs": [
    {
     "name": "stdout",
     "output_type": "stream",
     "text": [
      "0.24577927589416504\n",
      "[{'box3d_lidar': tensor([[-7.5960e+00, -5.6196e-01, -1.6142e+00,  1.7956e+00,  4.4739e+00,\n",
      "          1.6223e+00, -1.4431e+00],\n",
      "        [-7.1888e+00,  3.6912e+00, -1.3343e+00,  1.5783e+00,  3.6876e+00,\n",
      "          1.4489e+00, -1.8386e+00],\n",
      "        [-3.2799e+00, -3.7651e+00, -1.9508e+00,  1.4922e+00,  3.8497e+00,\n",
      "          1.4407e+00,  1.9238e+00],\n",
      "        [-7.4269e+00, -1.2278e+00, -1.7941e+00,  1.7071e+00,  4.3086e+00,\n",
      "          1.6031e+00, -6.1224e-03],\n",
      "        [ 7.5262e+00,  9.4770e-01, -1.5302e+00,  1.6106e+00,  3.9179e+00,\n",
      "          1.4756e+00,  2.9084e+00],\n",
      "        [ 5.7465e+00, -6.2875e-01, -1.9018e+00,  1.7050e+00,  3.7014e+00,\n",
      "          1.5740e+00,  1.5617e+00],\n",
      "        [-7.3149e+00,  2.6318e+00, -1.2909e+00,  8.1435e-01,  1.0371e+00,\n",
      "          1.6226e+00, -2.6420e+00],\n",
      "        [-4.8762e+00,  7.7114e-01, -2.1198e+00,  1.7907e+00,  4.1501e+00,\n",
      "          1.6761e+00,  1.3721e+00],\n",
      "        [-7.5175e+00,  4.9616e-01, -1.1387e+00,  5.4416e-01,  9.7033e-01,\n",
      "          1.4862e+00, -1.9945e+00],\n",
      "        [ 7.4948e+00,  9.1540e-01, -9.8915e-01,  7.4028e-01,  8.8099e-01,\n",
      "          1.6843e+00, -7.8402e-01],\n",
      "        [ 3.9829e+00, -1.6639e-01, -8.1997e-01,  6.3993e-01,  8.7552e-01,\n",
      "          1.3757e+00, -1.7265e+00],\n",
      "        [-7.1193e+00,  7.3556e-01, -2.0206e+00,  1.7012e+00,  3.9751e+00,\n",
      "          1.4222e+00, -1.2574e-01],\n",
      "        [ 5.8393e+00,  1.0207e+00, -2.2864e+00,  1.7049e+00,  4.0831e+00,\n",
      "          1.5102e+00, -1.3275e+00],\n",
      "        [ 7.5248e+00,  1.5569e+00, -1.5535e+00,  1.7218e+00,  4.5636e+00,\n",
      "          1.3489e+00, -1.4403e+00],\n",
      "        [-1.0848e+00, -6.0040e-01, -1.0234e+00,  6.4393e-01,  9.3290e-01,\n",
      "          1.4979e+00,  1.5205e+00],\n",
      "        [-7.1430e+00, -2.4805e-01, -9.3632e-01,  6.5698e-01,  1.1847e+00,\n",
      "          1.4777e+00, -1.4824e+00],\n",
      "        [-6.4675e+00,  1.8639e+00, -1.1783e+00,  5.8791e-01,  7.6475e-01,\n",
      "          1.4962e+00, -2.1517e+00],\n",
      "        [ 7.6196e+00, -1.9840e+00, -1.1429e+00,  5.8773e-01,  1.7690e+00,\n",
      "          1.7783e+00,  2.5982e+00],\n",
      "        [ 7.5494e+00,  3.4738e-01, -9.8327e-01,  6.6677e-01,  9.2820e-01,\n",
      "          1.7297e+00, -1.5660e+00],\n",
      "        [ 5.1740e+00, -3.0621e+00, -5.2613e-01,  7.6012e-01,  9.9753e-01,\n",
      "          1.6825e+00, -1.7375e+00],\n",
      "        [ 7.5606e+00, -3.1585e+00, -6.7793e-01,  7.2992e-01,  8.1990e-01,\n",
      "          1.8703e+00, -1.4190e+00]], device='cuda:0'), 'scores': tensor([0.6543, 0.4212, 0.4188, 0.3527, 0.3102, 0.1810, 0.1726, 0.1444, 0.1090,\n",
      "        0.0829, 0.0688, 0.0678, 0.0665, 0.0657, 0.0625, 0.0624, 0.0576, 0.0566,\n",
      "        0.0552, 0.0549, 0.0509], device='cuda:0'), 'label_preds': tensor([0, 0, 0, 0, 0, 0, 2, 0, 2, 2, 2, 0, 0, 0, 2, 2, 2, 1, 2, 2, 2],\n",
      "       device='cuda:0'), 'metadata': None}, {'box3d_lidar': tensor([[-7.5960e+00, -5.6196e-01, -1.6142e+00,  1.7956e+00,  4.4739e+00,\n",
      "          1.6223e+00, -1.4431e+00],\n",
      "        [-7.1888e+00,  3.6912e+00, -1.3343e+00,  1.5783e+00,  3.6876e+00,\n",
      "          1.4489e+00, -1.8386e+00],\n",
      "        [-3.2799e+00, -3.7651e+00, -1.9508e+00,  1.4922e+00,  3.8497e+00,\n",
      "          1.4407e+00,  1.9238e+00],\n",
      "        [-7.4269e+00, -1.2278e+00, -1.7941e+00,  1.7071e+00,  4.3086e+00,\n",
      "          1.6031e+00, -6.1224e-03],\n",
      "        [ 7.5262e+00,  9.4770e-01, -1.5302e+00,  1.6106e+00,  3.9179e+00,\n",
      "          1.4756e+00,  2.9084e+00],\n",
      "        [ 5.7465e+00, -6.2875e-01, -1.9018e+00,  1.7050e+00,  3.7014e+00,\n",
      "          1.5740e+00,  1.5617e+00],\n",
      "        [-7.3149e+00,  2.6318e+00, -1.2909e+00,  8.1435e-01,  1.0371e+00,\n",
      "          1.6226e+00, -2.6420e+00],\n",
      "        [-4.8762e+00,  7.7114e-01, -2.1198e+00,  1.7907e+00,  4.1501e+00,\n",
      "          1.6761e+00,  1.3721e+00],\n",
      "        [-7.5175e+00,  4.9616e-01, -1.1387e+00,  5.4416e-01,  9.7033e-01,\n",
      "          1.4862e+00, -1.9945e+00],\n",
      "        [ 7.4948e+00,  9.1540e-01, -9.8915e-01,  7.4028e-01,  8.8099e-01,\n",
      "          1.6843e+00, -7.8402e-01],\n",
      "        [ 3.9829e+00, -1.6639e-01, -8.1997e-01,  6.3993e-01,  8.7552e-01,\n",
      "          1.3757e+00, -1.7265e+00],\n",
      "        [-7.1193e+00,  7.3556e-01, -2.0206e+00,  1.7012e+00,  3.9751e+00,\n",
      "          1.4222e+00, -1.2574e-01],\n",
      "        [ 5.8393e+00,  1.0207e+00, -2.2864e+00,  1.7049e+00,  4.0831e+00,\n",
      "          1.5102e+00, -1.3275e+00],\n",
      "        [ 7.5248e+00,  1.5569e+00, -1.5535e+00,  1.7218e+00,  4.5636e+00,\n",
      "          1.3489e+00, -1.4403e+00],\n",
      "        [-1.0848e+00, -6.0040e-01, -1.0234e+00,  6.4393e-01,  9.3290e-01,\n",
      "          1.4979e+00,  1.5205e+00],\n",
      "        [-7.1430e+00, -2.4805e-01, -9.3632e-01,  6.5698e-01,  1.1847e+00,\n",
      "          1.4777e+00, -1.4824e+00],\n",
      "        [-6.4675e+00,  1.8639e+00, -1.1783e+00,  5.8791e-01,  7.6475e-01,\n",
      "          1.4962e+00, -2.1517e+00],\n",
      "        [ 7.6196e+00, -1.9840e+00, -1.1429e+00,  5.8773e-01,  1.7690e+00,\n",
      "          1.7783e+00,  2.5982e+00],\n",
      "        [ 7.5494e+00,  3.4738e-01, -9.8327e-01,  6.6677e-01,  9.2820e-01,\n",
      "          1.7297e+00, -1.5660e+00],\n",
      "        [ 5.1740e+00, -3.0621e+00, -5.2613e-01,  7.6012e-01,  9.9753e-01,\n",
      "          1.6825e+00, -1.7375e+00],\n",
      "        [ 7.5606e+00, -3.1585e+00, -6.7793e-01,  7.2992e-01,  8.1990e-01,\n",
      "          1.8703e+00, -1.4190e+00]], device='cuda:0'), 'scores': tensor([0.6543, 0.4212, 0.4188, 0.3527, 0.3102, 0.1810, 0.1726, 0.1444, 0.1090,\n",
      "        0.0829, 0.0688, 0.0678, 0.0665, 0.0657, 0.0625, 0.0624, 0.0576, 0.0566,\n",
      "        0.0552, 0.0549, 0.0509], device='cuda:0'), 'label_preds': tensor([0, 0, 0, 0, 0, 0, 2, 0, 2, 2, 2, 0, 0, 0, 2, 2, 2, 1, 2, 2, 2],\n",
      "       device='cuda:0'), 'metadata': None}, {'box3d_lidar': tensor([[-7.5960e+00, -5.6196e-01, -1.6142e+00,  1.7956e+00,  4.4739e+00,\n",
      "          1.6223e+00, -1.4431e+00],\n",
      "        [-7.1888e+00,  3.6912e+00, -1.3343e+00,  1.5783e+00,  3.6876e+00,\n",
      "          1.4489e+00, -1.8386e+00],\n",
      "        [-3.2799e+00, -3.7651e+00, -1.9508e+00,  1.4922e+00,  3.8497e+00,\n",
      "          1.4407e+00,  1.9238e+00],\n",
      "        [-7.4269e+00, -1.2278e+00, -1.7941e+00,  1.7071e+00,  4.3086e+00,\n",
      "          1.6031e+00, -6.1224e-03],\n",
      "        [ 7.5262e+00,  9.4770e-01, -1.5302e+00,  1.6106e+00,  3.9179e+00,\n",
      "          1.4756e+00,  2.9084e+00],\n",
      "        [ 5.7465e+00, -6.2875e-01, -1.9018e+00,  1.7050e+00,  3.7014e+00,\n",
      "          1.5740e+00,  1.5617e+00],\n",
      "        [-7.3149e+00,  2.6318e+00, -1.2909e+00,  8.1435e-01,  1.0371e+00,\n",
      "          1.6226e+00, -2.6420e+00],\n",
      "        [-4.8762e+00,  7.7114e-01, -2.1198e+00,  1.7907e+00,  4.1501e+00,\n",
      "          1.6761e+00,  1.3721e+00],\n",
      "        [-7.5175e+00,  4.9616e-01, -1.1387e+00,  5.4416e-01,  9.7033e-01,\n",
      "          1.4862e+00, -1.9945e+00],\n",
      "        [ 7.4948e+00,  9.1540e-01, -9.8915e-01,  7.4028e-01,  8.8099e-01,\n",
      "          1.6843e+00, -7.8402e-01],\n",
      "        [ 3.9829e+00, -1.6639e-01, -8.1997e-01,  6.3993e-01,  8.7552e-01,\n",
      "          1.3757e+00, -1.7265e+00],\n",
      "        [-7.1193e+00,  7.3556e-01, -2.0206e+00,  1.7012e+00,  3.9751e+00,\n",
      "          1.4222e+00, -1.2574e-01],\n",
      "        [ 5.8393e+00,  1.0207e+00, -2.2864e+00,  1.7049e+00,  4.0831e+00,\n",
      "          1.5102e+00, -1.3275e+00],\n",
      "        [ 7.5248e+00,  1.5569e+00, -1.5535e+00,  1.7218e+00,  4.5636e+00,\n",
      "          1.3489e+00, -1.4403e+00],\n",
      "        [-1.0848e+00, -6.0040e-01, -1.0234e+00,  6.4393e-01,  9.3290e-01,\n",
      "          1.4979e+00,  1.5205e+00],\n",
      "        [-7.1430e+00, -2.4805e-01, -9.3632e-01,  6.5698e-01,  1.1847e+00,\n",
      "          1.4777e+00, -1.4824e+00],\n",
      "        [-6.4675e+00,  1.8639e+00, -1.1783e+00,  5.8791e-01,  7.6475e-01,\n",
      "          1.4962e+00, -2.1517e+00],\n",
      "        [ 7.6196e+00, -1.9840e+00, -1.1429e+00,  5.8773e-01,  1.7690e+00,\n",
      "          1.7783e+00,  2.5982e+00],\n",
      "        [ 7.5494e+00,  3.4738e-01, -9.8327e-01,  6.6677e-01,  9.2820e-01,\n",
      "          1.7297e+00, -1.5660e+00],\n",
      "        [ 5.1740e+00, -3.0621e+00, -5.2613e-01,  7.6012e-01,  9.9753e-01,\n",
      "          1.6825e+00, -1.7375e+00],\n",
      "        [ 7.5606e+00, -3.1585e+00, -6.7793e-01,  7.2992e-01,  8.1990e-01,\n",
      "          1.8703e+00, -1.4190e+00]], device='cuda:0'), 'scores': tensor([0.6543, 0.4212, 0.4188, 0.3527, 0.3102, 0.1810, 0.1726, 0.1444, 0.1090,\n",
      "        0.0829, 0.0688, 0.0678, 0.0665, 0.0657, 0.0625, 0.0624, 0.0576, 0.0566,\n",
      "        0.0552, 0.0549, 0.0509], device='cuda:0'), 'label_preds': tensor([0, 0, 0, 0, 0, 0, 2, 0, 2, 2, 2, 0, 0, 0, 2, 2, 2, 1, 2, 2, 2],\n",
      "       device='cuda:0'), 'metadata': None}, {'box3d_lidar': tensor([[-7.5960e+00, -5.6196e-01, -1.6142e+00,  1.7956e+00,  4.4739e+00,\n",
      "          1.6223e+00, -1.4431e+00],\n",
      "        [-7.1888e+00,  3.6912e+00, -1.3343e+00,  1.5783e+00,  3.6876e+00,\n",
      "          1.4489e+00, -1.8386e+00],\n",
      "        [-3.2799e+00, -3.7651e+00, -1.9508e+00,  1.4922e+00,  3.8497e+00,\n",
      "          1.4407e+00,  1.9238e+00],\n",
      "        [-7.4269e+00, -1.2278e+00, -1.7941e+00,  1.7071e+00,  4.3086e+00,\n",
      "          1.6031e+00, -6.1224e-03],\n",
      "        [ 7.5262e+00,  9.4770e-01, -1.5302e+00,  1.6106e+00,  3.9179e+00,\n",
      "          1.4756e+00,  2.9084e+00],\n",
      "        [ 5.7465e+00, -6.2875e-01, -1.9018e+00,  1.7050e+00,  3.7014e+00,\n",
      "          1.5740e+00,  1.5617e+00],\n",
      "        [-7.3149e+00,  2.6318e+00, -1.2909e+00,  8.1435e-01,  1.0371e+00,\n",
      "          1.6226e+00, -2.6420e+00],\n",
      "        [-4.8762e+00,  7.7114e-01, -2.1198e+00,  1.7907e+00,  4.1501e+00,\n",
      "          1.6761e+00,  1.3721e+00],\n",
      "        [-7.5175e+00,  4.9616e-01, -1.1387e+00,  5.4416e-01,  9.7033e-01,\n",
      "          1.4862e+00, -1.9945e+00],\n",
      "        [ 7.4948e+00,  9.1540e-01, -9.8915e-01,  7.4028e-01,  8.8099e-01,\n",
      "          1.6843e+00, -7.8402e-01],\n",
      "        [ 3.9829e+00, -1.6639e-01, -8.1997e-01,  6.3993e-01,  8.7552e-01,\n",
      "          1.3757e+00, -1.7265e+00],\n",
      "        [-7.1193e+00,  7.3556e-01, -2.0206e+00,  1.7012e+00,  3.9751e+00,\n",
      "          1.4222e+00, -1.2574e-01],\n",
      "        [ 5.8393e+00,  1.0207e+00, -2.2864e+00,  1.7049e+00,  4.0831e+00,\n",
      "          1.5102e+00, -1.3275e+00],\n",
      "        [ 7.5248e+00,  1.5569e+00, -1.5535e+00,  1.7218e+00,  4.5636e+00,\n",
      "          1.3489e+00, -1.4403e+00],\n",
      "        [-1.0848e+00, -6.0040e-01, -1.0234e+00,  6.4393e-01,  9.3290e-01,\n",
      "          1.4979e+00,  1.5205e+00],\n",
      "        [-7.1430e+00, -2.4805e-01, -9.3632e-01,  6.5698e-01,  1.1847e+00,\n",
      "          1.4777e+00, -1.4824e+00],\n",
      "        [-6.4675e+00,  1.8639e+00, -1.1783e+00,  5.8791e-01,  7.6475e-01,\n",
      "          1.4962e+00, -2.1517e+00],\n",
      "        [ 7.6196e+00, -1.9840e+00, -1.1429e+00,  5.8773e-01,  1.7690e+00,\n",
      "          1.7783e+00,  2.5982e+00],\n",
      "        [ 7.5494e+00,  3.4738e-01, -9.8327e-01,  6.6677e-01,  9.2820e-01,\n",
      "          1.7297e+00, -1.5660e+00],\n",
      "        [ 5.1740e+00, -3.0621e+00, -5.2613e-01,  7.6012e-01,  9.9753e-01,\n",
      "          1.6825e+00, -1.7375e+00],\n",
      "        [ 7.5606e+00, -3.1585e+00, -6.7793e-01,  7.2992e-01,  8.1990e-01,\n",
      "          1.8703e+00, -1.4190e+00]], device='cuda:0'), 'scores': tensor([0.6543, 0.4212, 0.4188, 0.3527, 0.3102, 0.1810, 0.1726, 0.1444, 0.1090,\n",
      "        0.0829, 0.0688, 0.0678, 0.0665, 0.0657, 0.0625, 0.0624, 0.0576, 0.0566,\n",
      "        0.0552, 0.0549, 0.0509], device='cuda:0'), 'label_preds': tensor([0, 0, 0, 0, 0, 0, 2, 0, 2, 2, 2, 0, 0, 0, 2, 2, 2, 1, 2, 2, 2],\n",
      "       device='cuda:0'), 'metadata': None}]\n"
     ]
    }
   ],
   "source": [
    "anchors_ = anchors.view(1, -1, 7)\n",
    "example = {\n",
    "    \"anchors\": anchors_,\n",
    "    \"voxels\": voxels,\n",
    "    \"num_points\": num_points,\n",
    "    \"coordinates\": coords,\n",
    "}\n",
    "examples = np.array([example, example, example, example])\n",
    "\n",
    "start = time()\n",
    "detections = []\n",
    "for example in examples:\n",
    "    with torch.no_grad():\n",
    "        detections += net(example)\n",
    "print(time()-start)\n",
    "print(detections)"
   ]
  },
  {
   "cell_type": "markdown",
   "metadata": {},
   "source": [
    "### Batch of pointclouds"
   ]
  },
  {
   "cell_type": "code",
   "execution_count": 71,
   "metadata": {},
   "outputs": [
    {
     "name": "stdout",
     "output_type": "stream",
     "text": [
      "0.004794120788574219\n",
      "[{'box3d_lidar': tensor([[ 7.4066, -1.5732, -0.9737,  1.6202,  3.7200,  1.5267,  1.8423]],\n",
      "       device='cuda:0'), 'scores': tensor([0.9854], device='cuda:0'), 'label_preds': tensor([0], device='cuda:0'), 'metadata': None}, {'box3d_lidar': tensor([[ 7.4049, -1.5734, -0.9750,  1.6200,  3.7191,  1.5266,  1.8440]],\n",
      "       device='cuda:0'), 'scores': tensor([0.9853], device='cuda:0'), 'label_preds': tensor([0], device='cuda:0'), 'metadata': None}, {'box3d_lidar': tensor([[ 7.4064, -1.5732, -0.9736,  1.6202,  3.7199,  1.5267,  1.8424]],\n",
      "       device='cuda:0'), 'scores': tensor([0.9854], device='cuda:0'), 'label_preds': tensor([0], device='cuda:0'), 'metadata': None}, {'box3d_lidar': tensor([[ 7.4060, -1.5732, -0.9737,  1.6203,  3.7195,  1.5266,  1.8426]],\n",
      "       device='cuda:0'), 'scores': tensor([0.9853], device='cuda:0'), 'label_preds': tensor([0], device='cuda:0'), 'metadata': None}, {'box3d_lidar': tensor([[ 7.4062, -1.5733, -0.9738,  1.6201,  3.7198,  1.5267,  1.8427]],\n",
      "       device='cuda:0'), 'scores': tensor([0.9854], device='cuda:0'), 'label_preds': tensor([0], device='cuda:0'), 'metadata': None}, {'box3d_lidar': tensor([[ 7.4068, -1.5731, -0.9734,  1.6203,  3.7200,  1.5266,  1.8421]],\n",
      "       device='cuda:0'), 'scores': tensor([0.9854], device='cuda:0'), 'label_preds': tensor([0], device='cuda:0'), 'metadata': None}, {'box3d_lidar': tensor([[ 7.4060, -1.5732, -0.9737,  1.6203,  3.7196,  1.5266,  1.8426]],\n",
      "       device='cuda:0'), 'scores': tensor([0.9853], device='cuda:0'), 'label_preds': tensor([0], device='cuda:0'), 'metadata': None}, {'box3d_lidar': tensor([[ 7.4059, -1.5733, -0.9738,  1.6203,  3.7195,  1.5266,  1.8427]],\n",
      "       device='cuda:0'), 'scores': tensor([0.9853], device='cuda:0'), 'label_preds': tensor([0], device='cuda:0'), 'metadata': None}, {'box3d_lidar': tensor([[ 7.4078, -1.5731, -0.9734,  1.6203,  3.7203,  1.5266,  1.8414]],\n",
      "       device='cuda:0'), 'scores': tensor([0.9854], device='cuda:0'), 'label_preds': tensor([0], device='cuda:0'), 'metadata': None}, {'box3d_lidar': tensor([[ 7.4055, -1.5732, -0.9737,  1.6204,  3.7191,  1.5266,  1.8430]],\n",
      "       device='cuda:0'), 'scores': tensor([0.9854], device='cuda:0'), 'label_preds': tensor([0], device='cuda:0'), 'metadata': None}]\n"
     ]
    }
   ],
   "source": [
    "anchors_ = anchors.view(-1, 7)\n",
    "example = {\n",
    "    \"anchors\": anchors_.cpu(), # b, x, 7\n",
    "    \"voxels\": voxels.cpu(), # b, ...\n",
    "    \"num_points\": num_points.cpu(), #b, ...\n",
    "    \"num_voxels\": num_voxels.cpu(), #b, ...\n",
    "    \"coordinates\": coords.cpu(),\n",
    "    \"type\": 'Car',\n",
    "}\n",
    "#print(example['anchors'].shape)\n",
    "examples = np.array([example]*10)\n",
    "#print(examples.shape)\n",
    "start_ = time()\n",
    "\n",
    "dataset = InferDataset(examples)\n",
    "#dataset = DatasetWrapper(examples)\n",
    "eval_dataloader = DataLoader(\n",
    "        dataset,\n",
    "        batch_size=10,\n",
    "        shuffle=False,\n",
    "        pin_memory=False,\n",
    "        collate_fn=merge_second_batch)\n",
    "\n",
    "float_dtype = None\n",
    "if train_cfg.enable_mixed_precision:\n",
    "    float_dtype = torch.float16\n",
    "else:\n",
    "    float_dtype = torch.float32\n",
    "\n",
    "#net.eval()\n",
    "#torch.cuda.synchronize()\n",
    "detections = []\n",
    "for data in eval_dataloader:\n",
    "    #print(data['anchors'].shape)\n",
    "    start = time()\n",
    "    data = example_convert_to_torch(data, float_dtype)\n",
    "    with torch.no_grad():\n",
    "        detections += net(data)\n",
    "print(start-start_)\n",
    "print(detections)"
   ]
  },
  {
   "cell_type": "code",
   "execution_count": 47,
   "metadata": {},
   "outputs": [
    {
     "data": {
      "text/plain": [
       "tensor([[34.8812, -3.1274, -1.2073,  1.6100,  3.9520,  1.4740, -1.6685]],\n",
       "       device='cuda:0')"
      ]
     },
     "execution_count": 47,
     "metadata": {},
     "output_type": "execute_result"
    }
   ],
   "source": [
    "pred['box3d_lidar'][:1]"
   ]
  },
  {
   "cell_type": "code",
   "execution_count": 30,
   "metadata": {},
   "outputs": [
    {
     "data": {
      "text/plain": [
       "dict_keys(['box3d_lidar', 'scores', 'label_preds', 'metadata'])"
      ]
     },
     "execution_count": 30,
     "metadata": {},
     "output_type": "execute_result"
    }
   ],
   "source": [
    "pred.keys()"
   ]
  },
  {
   "cell_type": "markdown",
   "metadata": {},
   "source": [
    "## Simple Vis"
   ]
  },
  {
   "cell_type": "code",
   "execution_count": 48,
   "metadata": {},
   "outputs": [],
   "source": [
    "boxes_lidar = pred[\"box3d_lidar\"][:1].detach().cpu().numpy()\n",
    "vis_voxel_size = [0.1, 0.1, 0.1]\n",
    "vis_point_range = [-50, -30, -3, 50, 30, 1]\n",
    "bev_map = simplevis.point_to_vis_bev(points, vis_voxel_size, vis_point_range)\n",
    "bev_map = simplevis.draw_box_in_bev(bev_map, vis_point_range, boxes_lidar, [0, 255, 0], 2)"
   ]
  },
  {
   "cell_type": "code",
   "execution_count": 49,
   "metadata": {},
   "outputs": [
    {
     "data": {
      "text/plain": [
       "<matplotlib.image.AxesImage at 0x7f5df8b83f98>"
      ]
     },
     "execution_count": 49,
     "metadata": {},
     "output_type": "execute_result"
    },
    {
     "data": {
      "image/png": "[encoded data removed]",
      "text/plain": [
       "<Figure size 1080x720 with 1 Axes>"
      ]
     },
     "metadata": {
      "needs_background": "light"
     },
     "output_type": "display_data"
    }
   ],
   "source": [
    "plt.rcParams[\"figure.figsize\"] = (15,10)\n",
    "plt.imshow(bev_map)"
   ]
  },
  {
   "cell_type": "code",
   "execution_count": null,
   "metadata": {},
   "outputs": [],
   "source": []
  }
 ],
 "metadata": {
  "kernelspec": {
   "display_name": "Python 3",
   "language": "python",
   "name": "python3"
  },
  "language_info": {
   "codemirror_mode": {
    "name": "ipython",
    "version": 3
   },
   "file_extension": ".py",
   "mimetype": "text/x-python",
   "name": "python",
   "nbconvert_exporter": "python",
   "pygments_lexer": "ipython3",
   "version": "3.6.13"
  }
 },
 "nbformat": 4,
 "nbformat_minor": 2
}
