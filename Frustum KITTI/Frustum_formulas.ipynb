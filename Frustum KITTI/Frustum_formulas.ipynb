{
 "cells": [
  {
   "cell_type": "markdown",
   "id": "225fe787",
   "metadata": {},
   "source": [
    "# Initialize notebook"
   ]
  },
  {
   "cell_type": "code",
   "execution_count": 1,
   "id": "523165c8",
   "metadata": {},
   "outputs": [],
   "source": [
    "# Import libraries\n",
    "import pandas as pd\n",
    "pd.set_option('display.max_columns', None)\n",
    "import numpy as np\n",
    "import matplotlib.image as mpimg\n",
    "from scipy.optimize import fsolve\n",
    "from math import sqrt\n",
    "import time\n",
    "from multiprocessing import Pool"
   ]
  },
  {
   "cell_type": "code",
   "execution_count": 2,
   "id": "b2bfdb57",
   "metadata": {},
   "outputs": [],
   "source": [
    "# Constants\n",
    "#KITTI_DATASET = '/media/javier/HDD_linux/KITTI_dataset/training/'\n",
    "KITTI_DATASET = '/media/robesafe/SSD_SATA/KITTI_DATASET/'\n",
    "#KITTI_DATASET = '/media/HDD_Linux/KITTI/training/'"
   ]
  },
  {
   "cell_type": "markdown",
   "id": "209a1533",
   "metadata": {},
   "source": [
    "# Load dataframe"
   ]
  },
  {
   "cell_type": "code",
   "execution_count": 3,
   "id": "71ac197e",
   "metadata": {},
   "outputs": [],
   "source": [
    "df = pd.read_csv (KITTI_DATASET+'kitti_gt.csv')"
   ]
  },
  {
   "cell_type": "code",
   "execution_count": 4,
   "id": "540de8ee",
   "metadata": {},
   "outputs": [
    {
     "data": {
      "text/html": [
       "<div>\n",
       "<style scoped>\n",
       "    .dataframe tbody tr th:only-of-type {\n",
       "        vertical-align: middle;\n",
       "    }\n",
       "\n",
       "    .dataframe tbody tr th {\n",
       "        vertical-align: top;\n",
       "    }\n",
       "\n",
       "    .dataframe thead th {\n",
       "        text-align: right;\n",
       "    }\n",
       "</style>\n",
       "<table border=\"1\" class=\"dataframe\">\n",
       "  <thead>\n",
       "    <tr style=\"text-align: right;\">\n",
       "      <th></th>\n",
       "      <th>frame</th>\n",
       "      <th>id</th>\n",
       "      <th>type</th>\n",
       "      <th>truncated</th>\n",
       "      <th>occluded</th>\n",
       "      <th>alpha</th>\n",
       "      <th>left</th>\n",
       "      <th>top</th>\n",
       "      <th>right</th>\n",
       "      <th>bottom</th>\n",
       "      <th>height</th>\n",
       "      <th>width</th>\n",
       "      <th>length</th>\n",
       "      <th>x</th>\n",
       "      <th>y</th>\n",
       "      <th>z</th>\n",
       "      <th>ry</th>\n",
       "      <th>distance</th>\n",
       "      <th>height_image</th>\n",
       "      <th>width_image</th>\n",
       "      <th>theta_ray</th>\n",
       "      <th>incomplete_2d_horizontal</th>\n",
       "      <th>incomplete_2d_bottom</th>\n",
       "    </tr>\n",
       "  </thead>\n",
       "  <tbody>\n",
       "    <tr>\n",
       "      <th>0</th>\n",
       "      <td>0</td>\n",
       "      <td>0</td>\n",
       "      <td>Pedestrian</td>\n",
       "      <td>0.0</td>\n",
       "      <td>0.0</td>\n",
       "      <td>-0.20</td>\n",
       "      <td>712.40</td>\n",
       "      <td>143.00</td>\n",
       "      <td>810.73</td>\n",
       "      <td>307.92</td>\n",
       "      <td>1.89</td>\n",
       "      <td>0.48</td>\n",
       "      <td>1.20</td>\n",
       "      <td>1.84</td>\n",
       "      <td>1.47</td>\n",
       "      <td>8.41</td>\n",
       "      <td>0.01</td>\n",
       "      <td>8.733533</td>\n",
       "      <td>164.92</td>\n",
       "      <td>98.33</td>\n",
       "      <td>0.21</td>\n",
       "      <td>False</td>\n",
       "      <td>False</td>\n",
       "    </tr>\n",
       "    <tr>\n",
       "      <th>1</th>\n",
       "      <td>1</td>\n",
       "      <td>0</td>\n",
       "      <td>Car</td>\n",
       "      <td>0.0</td>\n",
       "      <td>0.0</td>\n",
       "      <td>1.85</td>\n",
       "      <td>387.63</td>\n",
       "      <td>181.54</td>\n",
       "      <td>423.81</td>\n",
       "      <td>203.12</td>\n",
       "      <td>1.67</td>\n",
       "      <td>1.87</td>\n",
       "      <td>3.69</td>\n",
       "      <td>-16.53</td>\n",
       "      <td>2.39</td>\n",
       "      <td>58.49</td>\n",
       "      <td>1.57</td>\n",
       "      <td>60.827897</td>\n",
       "      <td>21.58</td>\n",
       "      <td>36.18</td>\n",
       "      <td>-0.28</td>\n",
       "      <td>False</td>\n",
       "      <td>False</td>\n",
       "    </tr>\n",
       "    <tr>\n",
       "      <th>2</th>\n",
       "      <td>1</td>\n",
       "      <td>1</td>\n",
       "      <td>Cyclist</td>\n",
       "      <td>0.0</td>\n",
       "      <td>3.0</td>\n",
       "      <td>-1.65</td>\n",
       "      <td>676.60</td>\n",
       "      <td>163.95</td>\n",
       "      <td>688.98</td>\n",
       "      <td>193.93</td>\n",
       "      <td>1.86</td>\n",
       "      <td>0.60</td>\n",
       "      <td>2.02</td>\n",
       "      <td>4.59</td>\n",
       "      <td>1.32</td>\n",
       "      <td>45.84</td>\n",
       "      <td>-1.55</td>\n",
       "      <td>46.088134</td>\n",
       "      <td>29.98</td>\n",
       "      <td>12.38</td>\n",
       "      <td>0.10</td>\n",
       "      <td>False</td>\n",
       "      <td>False</td>\n",
       "    </tr>\n",
       "    <tr>\n",
       "      <th>3</th>\n",
       "      <td>2</td>\n",
       "      <td>0</td>\n",
       "      <td>Car</td>\n",
       "      <td>0.0</td>\n",
       "      <td>0.0</td>\n",
       "      <td>-1.67</td>\n",
       "      <td>657.39</td>\n",
       "      <td>190.13</td>\n",
       "      <td>700.07</td>\n",
       "      <td>223.39</td>\n",
       "      <td>1.41</td>\n",
       "      <td>1.58</td>\n",
       "      <td>4.36</td>\n",
       "      <td>3.18</td>\n",
       "      <td>2.27</td>\n",
       "      <td>34.38</td>\n",
       "      <td>-1.58</td>\n",
       "      <td>34.601296</td>\n",
       "      <td>33.26</td>\n",
       "      <td>42.68</td>\n",
       "      <td>0.09</td>\n",
       "      <td>False</td>\n",
       "      <td>False</td>\n",
       "    </tr>\n",
       "    <tr>\n",
       "      <th>4</th>\n",
       "      <td>3</td>\n",
       "      <td>0</td>\n",
       "      <td>Car</td>\n",
       "      <td>0.0</td>\n",
       "      <td>0.0</td>\n",
       "      <td>1.55</td>\n",
       "      <td>614.24</td>\n",
       "      <td>181.78</td>\n",
       "      <td>727.31</td>\n",
       "      <td>284.77</td>\n",
       "      <td>1.57</td>\n",
       "      <td>1.73</td>\n",
       "      <td>4.15</td>\n",
       "      <td>1.00</td>\n",
       "      <td>1.75</td>\n",
       "      <td>13.22</td>\n",
       "      <td>1.62</td>\n",
       "      <td>13.372767</td>\n",
       "      <td>102.99</td>\n",
       "      <td>113.07</td>\n",
       "      <td>0.07</td>\n",
       "      <td>False</td>\n",
       "      <td>False</td>\n",
       "    </tr>\n",
       "    <tr>\n",
       "      <th>...</th>\n",
       "      <td>...</td>\n",
       "      <td>...</td>\n",
       "      <td>...</td>\n",
       "      <td>...</td>\n",
       "      <td>...</td>\n",
       "      <td>...</td>\n",
       "      <td>...</td>\n",
       "      <td>...</td>\n",
       "      <td>...</td>\n",
       "      <td>...</td>\n",
       "      <td>...</td>\n",
       "      <td>...</td>\n",
       "      <td>...</td>\n",
       "      <td>...</td>\n",
       "      <td>...</td>\n",
       "      <td>...</td>\n",
       "      <td>...</td>\n",
       "      <td>...</td>\n",
       "      <td>...</td>\n",
       "      <td>...</td>\n",
       "      <td>...</td>\n",
       "      <td>...</td>\n",
       "      <td>...</td>\n",
       "    </tr>\n",
       "    <tr>\n",
       "      <th>34851</th>\n",
       "      <td>7480</td>\n",
       "      <td>9</td>\n",
       "      <td>Car</td>\n",
       "      <td>0.0</td>\n",
       "      <td>2.0</td>\n",
       "      <td>-0.33</td>\n",
       "      <td>749.78</td>\n",
       "      <td>170.88</td>\n",
       "      <td>917.51</td>\n",
       "      <td>243.48</td>\n",
       "      <td>1.77</td>\n",
       "      <td>1.69</td>\n",
       "      <td>3.82</td>\n",
       "      <td>5.72</td>\n",
       "      <td>1.75</td>\n",
       "      <td>18.85</td>\n",
       "      <td>-0.04</td>\n",
       "      <td>19.776334</td>\n",
       "      <td>72.60</td>\n",
       "      <td>167.73</td>\n",
       "      <td>0.29</td>\n",
       "      <td>False</td>\n",
       "      <td>False</td>\n",
       "    </tr>\n",
       "    <tr>\n",
       "      <th>34852</th>\n",
       "      <td>7480</td>\n",
       "      <td>10</td>\n",
       "      <td>Car</td>\n",
       "      <td>0.0</td>\n",
       "      <td>1.0</td>\n",
       "      <td>-2.90</td>\n",
       "      <td>344.07</td>\n",
       "      <td>180.05</td>\n",
       "      <td>479.10</td>\n",
       "      <td>224.15</td>\n",
       "      <td>1.49</td>\n",
       "      <td>1.59</td>\n",
       "      <td>4.44</td>\n",
       "      <td>-7.12</td>\n",
       "      <td>1.78</td>\n",
       "      <td>26.03</td>\n",
       "      <td>3.12</td>\n",
       "      <td>27.044846</td>\n",
       "      <td>44.10</td>\n",
       "      <td>135.03</td>\n",
       "      <td>-0.26</td>\n",
       "      <td>False</td>\n",
       "      <td>False</td>\n",
       "    </tr>\n",
       "    <tr>\n",
       "      <th>34853</th>\n",
       "      <td>7480</td>\n",
       "      <td>11</td>\n",
       "      <td>Car</td>\n",
       "      <td>0.0</td>\n",
       "      <td>2.0</td>\n",
       "      <td>-2.91</td>\n",
       "      <td>382.70</td>\n",
       "      <td>179.71</td>\n",
       "      <td>495.48</td>\n",
       "      <td>219.10</td>\n",
       "      <td>1.48</td>\n",
       "      <td>1.63</td>\n",
       "      <td>4.10</td>\n",
       "      <td>-6.79</td>\n",
       "      <td>1.78</td>\n",
       "      <td>28.78</td>\n",
       "      <td>-3.14</td>\n",
       "      <td>29.623654</td>\n",
       "      <td>39.39</td>\n",
       "      <td>112.78</td>\n",
       "      <td>-0.23</td>\n",
       "      <td>False</td>\n",
       "      <td>False</td>\n",
       "    </tr>\n",
       "    <tr>\n",
       "      <th>34854</th>\n",
       "      <td>7480</td>\n",
       "      <td>12</td>\n",
       "      <td>Car</td>\n",
       "      <td>0.0</td>\n",
       "      <td>0.0</td>\n",
       "      <td>-1.69</td>\n",
       "      <td>631.71</td>\n",
       "      <td>179.85</td>\n",
       "      <td>678.40</td>\n",
       "      <td>214.37</td>\n",
       "      <td>1.41</td>\n",
       "      <td>1.56</td>\n",
       "      <td>4.08</td>\n",
       "      <td>1.90</td>\n",
       "      <td>1.74</td>\n",
       "      <td>31.98</td>\n",
       "      <td>-1.63</td>\n",
       "      <td>32.083610</td>\n",
       "      <td>34.52</td>\n",
       "      <td>46.69</td>\n",
       "      <td>0.06</td>\n",
       "      <td>False</td>\n",
       "      <td>False</td>\n",
       "    </tr>\n",
       "    <tr>\n",
       "      <th>34855</th>\n",
       "      <td>7480</td>\n",
       "      <td>13</td>\n",
       "      <td>Car</td>\n",
       "      <td>0.0</td>\n",
       "      <td>2.0</td>\n",
       "      <td>-1.62</td>\n",
       "      <td>619.92</td>\n",
       "      <td>176.90</td>\n",
       "      <td>647.01</td>\n",
       "      <td>199.92</td>\n",
       "      <td>1.43</td>\n",
       "      <td>1.58</td>\n",
       "      <td>3.37</td>\n",
       "      <td>1.47</td>\n",
       "      <td>1.71</td>\n",
       "      <td>47.02</td>\n",
       "      <td>-1.59</td>\n",
       "      <td>47.074042</td>\n",
       "      <td>23.02</td>\n",
       "      <td>27.09</td>\n",
       "      <td>0.03</td>\n",
       "      <td>False</td>\n",
       "      <td>False</td>\n",
       "    </tr>\n",
       "  </tbody>\n",
       "</table>\n",
       "<p>34856 rows × 23 columns</p>\n",
       "</div>"
      ],
      "text/plain": [
       "       frame  id        type  truncated  occluded  alpha    left     top  \\\n",
       "0          0   0  Pedestrian        0.0       0.0  -0.20  712.40  143.00   \n",
       "1          1   0         Car        0.0       0.0   1.85  387.63  181.54   \n",
       "2          1   1     Cyclist        0.0       3.0  -1.65  676.60  163.95   \n",
       "3          2   0         Car        0.0       0.0  -1.67  657.39  190.13   \n",
       "4          3   0         Car        0.0       0.0   1.55  614.24  181.78   \n",
       "...      ...  ..         ...        ...       ...    ...     ...     ...   \n",
       "34851   7480   9         Car        0.0       2.0  -0.33  749.78  170.88   \n",
       "34852   7480  10         Car        0.0       1.0  -2.90  344.07  180.05   \n",
       "34853   7480  11         Car        0.0       2.0  -2.91  382.70  179.71   \n",
       "34854   7480  12         Car        0.0       0.0  -1.69  631.71  179.85   \n",
       "34855   7480  13         Car        0.0       2.0  -1.62  619.92  176.90   \n",
       "\n",
       "        right  bottom  height  width  length      x     y      z    ry  \\\n",
       "0      810.73  307.92    1.89   0.48    1.20   1.84  1.47   8.41  0.01   \n",
       "1      423.81  203.12    1.67   1.87    3.69 -16.53  2.39  58.49  1.57   \n",
       "2      688.98  193.93    1.86   0.60    2.02   4.59  1.32  45.84 -1.55   \n",
       "3      700.07  223.39    1.41   1.58    4.36   3.18  2.27  34.38 -1.58   \n",
       "4      727.31  284.77    1.57   1.73    4.15   1.00  1.75  13.22  1.62   \n",
       "...       ...     ...     ...    ...     ...    ...   ...    ...   ...   \n",
       "34851  917.51  243.48    1.77   1.69    3.82   5.72  1.75  18.85 -0.04   \n",
       "34852  479.10  224.15    1.49   1.59    4.44  -7.12  1.78  26.03  3.12   \n",
       "34853  495.48  219.10    1.48   1.63    4.10  -6.79  1.78  28.78 -3.14   \n",
       "34854  678.40  214.37    1.41   1.56    4.08   1.90  1.74  31.98 -1.63   \n",
       "34855  647.01  199.92    1.43   1.58    3.37   1.47  1.71  47.02 -1.59   \n",
       "\n",
       "        distance  height_image  width_image  theta_ray  \\\n",
       "0       8.733533        164.92        98.33       0.21   \n",
       "1      60.827897         21.58        36.18      -0.28   \n",
       "2      46.088134         29.98        12.38       0.10   \n",
       "3      34.601296         33.26        42.68       0.09   \n",
       "4      13.372767        102.99       113.07       0.07   \n",
       "...          ...           ...          ...        ...   \n",
       "34851  19.776334         72.60       167.73       0.29   \n",
       "34852  27.044846         44.10       135.03      -0.26   \n",
       "34853  29.623654         39.39       112.78      -0.23   \n",
       "34854  32.083610         34.52        46.69       0.06   \n",
       "34855  47.074042         23.02        27.09       0.03   \n",
       "\n",
       "       incomplete_2d_horizontal  incomplete_2d_bottom  \n",
       "0                         False                 False  \n",
       "1                         False                 False  \n",
       "2                         False                 False  \n",
       "3                         False                 False  \n",
       "4                         False                 False  \n",
       "...                         ...                   ...  \n",
       "34851                     False                 False  \n",
       "34852                     False                 False  \n",
       "34853                     False                 False  \n",
       "34854                     False                 False  \n",
       "34855                     False                 False  \n",
       "\n",
       "[34856 rows x 23 columns]"
      ]
     },
     "execution_count": 4,
     "metadata": {},
     "output_type": "execute_result"
    }
   ],
   "source": [
    "df"
   ]
  },
  {
   "cell_type": "markdown",
   "id": "b76ee04c",
   "metadata": {},
   "source": [
    "# 2D point projection to word coordinates"
   ]
  },
  {
   "cell_type": "markdown",
   "id": "1d3d6e5a",
   "metadata": {},
   "source": [
    "## Study the best method to obtain the inverse matrix"
   ]
  },
  {
   "cell_type": "code",
   "execution_count": 5,
   "id": "7a454a58",
   "metadata": {},
   "outputs": [],
   "source": [
    "def get_intrinsic_matrix(image_id):\n",
    "    name = '%06d'%image_id # 6 digit zeropadding\n",
    "    with open(KITTI_DATASET+'calib/'+name+'.txt','r') as f:\n",
    "        calib = f.readlines()\n",
    "\n",
    "    # P2 (3 x 4) for left eye (intrinsic matrix in homogeneous coordinates)\n",
    "    P2 = np.matrix([float(x) for x in calib[2].strip('\\n').split(' ')[1:]]).reshape(3,4)\n",
    "    return P2"
   ]
  },
  {
   "cell_type": "code",
   "execution_count": 6,
   "id": "cb43582b",
   "metadata": {},
   "outputs": [],
   "source": [
    "def get_image_size(image_id):\n",
    "    name = '%06d'%image_id # 6 digit zeropadding\n",
    "    img = KITTI_DATASET+'images/'+name+'.png'\n",
    "    \n",
    "    # do projection staff\n",
    "    png = mpimg.imread(img)\n",
    "    IMG_H,IMG_W,_ = png.shape\n",
    "    return (IMG_H, IMG_W)"
   ]
  },
  {
   "cell_type": "code",
   "execution_count": 7,
   "id": "c0b3df35",
   "metadata": {},
   "outputs": [],
   "source": [
    "def get_rectification_matrix(image_id):\n",
    "    name = '%06d'%image_id # 6 digit zeropadding\n",
    "    with open(KITTI_DATASET+'calib/'+name+'.txt','r') as f:\n",
    "        calib = f.readlines()\n",
    "\n",
    "    R0_rect = np.matrix([float(x) for x in calib[4].strip('\\n').split(' ')[1:]]).reshape(3,3)\n",
    "    # Add a 1 in bottom-right, reshape to 4 x 4\n",
    "    R0_rect = np.insert(R0_rect,3,values=[0,0,0],axis=0)\n",
    "    R0_rect = np.insert(R0_rect,3,values=[0,0,0,1],axis=1)\n",
    "    return R0_rect"
   ]
  },
  {
   "cell_type": "code",
   "execution_count": 8,
   "id": "5d9d9560",
   "metadata": {},
   "outputs": [],
   "source": [
    "def get_translation_matrix(image_id):\n",
    "    name = '%06d'%image_id # 6 digit zeropadding\n",
    "    with open(KITTI_DATASET+'calib/'+name+'.txt','r') as f:\n",
    "        calib = f.readlines()\n",
    "\n",
    "    Tr_velo_to_cam = np.matrix([float(x) for x in calib[5].strip('\\n').split(' ')[1:]]).reshape(3,4)\n",
    "    Tr_velo_to_cam = np.insert(Tr_velo_to_cam,3,values=[0,0,0,1],axis=0)\n",
    "    return Tr_velo_to_cam"
   ]
  },
  {
   "cell_type": "code",
   "execution_count": 9,
   "id": "430442c6",
   "metadata": {},
   "outputs": [
    {
     "name": "stdout",
     "output_type": "stream",
     "text": [
      "P2:[[7.215377e+02 0.000000e+00 6.095593e+02 4.485728e+01]\n",
      " [0.000000e+00 7.215377e+02 1.728540e+02 2.163791e-01]\n",
      " [0.000000e+00 0.000000e+00 1.000000e+00 2.745884e-03]]\n",
      "R0_rect:[[ 0.9999239   0.00983776 -0.00744505  0.        ]\n",
      " [-0.0098698   0.9999421  -0.00427846  0.        ]\n",
      " [ 0.00740253  0.00435161  0.9999631   0.        ]\n",
      " [ 0.          0.          0.          1.        ]]\n",
      "Tr_velo_to_cam:[[ 7.533745e-03 -9.999714e-01 -6.166020e-04 -4.069766e-03]\n",
      " [ 1.480249e-02  7.280733e-04 -9.998902e-01 -7.631618e-02]\n",
      " [ 9.998621e-01  7.523790e-03  1.480755e-02 -2.717806e-01]\n",
      " [ 0.000000e+00  0.000000e+00  0.000000e+00  1.000000e+00]]\n",
      "f:721.5377\n",
      "P:[[ 6.09695409e+02 -7.21421597e+02 -1.25125855e+00 -1.23041806e+02]\n",
      " [ 1.80384202e+02  7.64479802e+00 -7.19651474e+02 -1.01016688e+02]\n",
      " [ 9.99945389e-01  1.24365378e-04  1.04513030e-02 -2.69386912e-01]]\n"
     ]
    }
   ],
   "source": [
    "# Get initial matrices and focal distance\n",
    "image_id = 0\n",
    "\n",
    "P2 = get_intrinsic_matrix(image_id)\n",
    "R0_rect = get_rectification_matrix(image_id)\n",
    "Tr_velo_to_cam = get_translation_matrix(image_id)\n",
    "print(\"P2:\"+str(P2))\n",
    "print(\"R0_rect:\"+str(R0_rect))\n",
    "print(\"Tr_velo_to_cam:\"+str(Tr_velo_to_cam))\n",
    "f = P2[0,0]\n",
    "print(\"f:\"+str(f))\n",
    "P = P2 * R0_rect * Tr_velo_to_cam\n",
    "print(\"P:\"+str(P))"
   ]
  },
  {
   "cell_type": "code",
   "execution_count": 10,
   "id": "b6bb48cf",
   "metadata": {},
   "outputs": [
    {
     "name": "stdout",
     "output_type": "stream",
     "text": [
      "inv_P2:[[ 1.38098242e-03  2.95827322e-08 -8.41959541e-01]\n",
      " [ 2.95827322e-08  1.38592879e-03 -2.39580388e-01]\n",
      " [-2.26947721e-07  1.35725562e-09  1.00013059e+00]\n",
      " [ 8.26501486e-05 -4.94287311e-07 -4.75586646e-02]]\n",
      "inv_R0_rect:[[ 0.99992388 -0.0098698   0.00740253  0.        ]\n",
      " [ 0.00983776  0.99994218  0.00435161  0.        ]\n",
      " [-0.00744505 -0.00427846  0.99996316  0.        ]\n",
      " [ 0.          0.          0.          1.        ]]\n",
      "inv_Tr_velo_to_cam:[[ 7.53374455e-03  1.48024867e-02  9.99862010e-01  2.72903427e-01]\n",
      " [-9.99971462e-01  7.28073246e-04  7.52379023e-03 -1.96926586e-03]\n",
      " [-6.16602047e-04 -9.99890144e-01  1.48075511e-02 -7.22859005e-02]\n",
      " [ 0.00000000e+00  0.00000000e+00  0.00000000e+00  1.00000000e+00]]\n",
      "I_P2:[[ 1.00000000e+00 -3.59040326e-17 -8.88178420e-14]\n",
      " [-7.04528124e-17  1.00000000e+00 -1.13686838e-13]\n",
      " [-2.17052193e-21  8.89918333e-19  1.00000000e+00]]\n",
      "I_R0_rect:[[ 1.00000000e+00  1.73472348e-18  6.84402621e-19  0.00000000e+00]\n",
      " [-1.73472348e-18  1.00000000e+00  0.00000000e+00  0.00000000e+00]\n",
      " [-1.26038503e-18 -8.67361738e-19  1.00000000e+00  0.00000000e+00]\n",
      " [ 0.00000000e+00  0.00000000e+00  0.00000000e+00  1.00000000e+00]]\n",
      "I_Tr_velo_to_cam:[[ 1.00000000e+00  1.08420217e-19  8.67361738e-19  0.00000000e+00]\n",
      " [ 0.00000000e+00  1.00000000e+00  2.90786411e-18  0.00000000e+00]\n",
      " [-8.67361738e-19 -1.06895558e-18  1.00000000e+00  0.00000000e+00]\n",
      " [ 0.00000000e+00  0.00000000e+00  0.00000000e+00  1.00000000e+00]]\n",
      "inv_P_:[[ 2.26531005e-05  1.43486038e-05  9.84395882e-01]\n",
      " [-1.38106783e-03  1.46142219e-05  8.39599345e-01]\n",
      " [-2.05943683e-05 -1.38574035e-03  2.62338449e-01]\n",
      " [ 8.26501486e-05 -4.94287311e-07 -4.75586646e-02]]\n",
      "I_P_:[[ 1.00000000e+00 -3.64291930e-17  1.13686838e-13]\n",
      " [-6.93889390e-17  1.00000000e+00 -8.88178420e-14]\n",
      " [-3.38813179e-21  8.90893372e-19  1.00000000e+00]]\n"
     ]
    }
   ],
   "source": [
    "# Get inverse matrix for each individual matrix\n",
    "inv_P2 = np.linalg.pinv(P2)\n",
    "inv_R0_rect = np.linalg.inv(R0_rect)\n",
    "inv_Tr_velo_to_cam = np.linalg.inv(Tr_velo_to_cam)\n",
    "print(\"inv_P2:\"+str(inv_P2))\n",
    "print(\"inv_R0_rect:\"+str(inv_R0_rect))\n",
    "print(\"inv_Tr_velo_to_cam:\"+str(inv_Tr_velo_to_cam))\n",
    "I_P2 = P2 * inv_P2\n",
    "I_R0_rect = R0_rect * inv_R0_rect\n",
    "I_Tr_velo_to_cam = Tr_velo_to_cam * inv_Tr_velo_to_cam\n",
    "print(\"I_P2:\"+str(I_P2))\n",
    "print(\"I_R0_rect:\"+str(I_R0_rect))\n",
    "print(\"I_Tr_velo_to_cam:\"+str(I_Tr_velo_to_cam))\n",
    "inv_P_ = inv_Tr_velo_to_cam * inv_R0_rect * inv_P2\n",
    "print(\"inv_P_:\"+str(inv_P_))\n",
    "I_P_ = P * inv_P_\n",
    "print(\"I_P_:\"+str(I_P_))"
   ]
  },
  {
   "cell_type": "code",
   "execution_count": 11,
   "id": "25c8a43a",
   "metadata": {},
   "outputs": [
    {
     "name": "stdout",
     "output_type": "stream",
     "text": [
      "inv_P:[[ 2.00760422e-05 -1.16432598e-05  9.22431593e-01]\n",
      " [-1.38161998e-03  9.04536674e-06  8.26323262e-01]\n",
      " [-1.99071435e-05 -1.37880909e-03  2.78862481e-01]\n",
      " [ 7.31106956e-05 -9.67079297e-05 -2.76930824e-01]]\n",
      "I_inv_P:[[ 1.00000000e+00  1.25767452e-16  1.13686838e-13]\n",
      " [ 1.04083409e-16  1.00000000e+00 -1.42108547e-13]\n",
      " [ 7.52165257e-19 -6.06475590e-19  1.00000000e+00]]\n"
     ]
    }
   ],
   "source": [
    "# Get inverse matrx of P\n",
    "inv_P = np.linalg.pinv(P)\n",
    "print(\"inv_P:\"+str(inv_P))\n",
    "I_inv_P = P * inv_P\n",
    "print(\"I_inv_P:\"+str(I_inv_P))"
   ]
  },
  {
   "cell_type": "markdown",
   "id": "85d4e103",
   "metadata": {},
   "source": [
    "It is better to use the inverse matrices calculated one by one."
   ]
  },
  {
   "cell_type": "markdown",
   "id": "66a283f1",
   "metadata": {},
   "source": [
    "## Check the approximations of the 3D points"
   ]
  },
  {
   "cell_type": "code",
   "execution_count": 12,
   "id": "ea4da115",
   "metadata": {},
   "outputs": [],
   "source": [
    "def get_P2R0(id_image):\n",
    "    name = '%06d'%image_id # 6 digit zeropadding\n",
    "    with open(KITTI_DATASET+'calib/'+name+'.txt','r') as f:\n",
    "        calib = f.readlines()\n",
    "\n",
    "    # P2 (3 x 4) for left eye (intrinsic matrix in homogeneous coordinates)\n",
    "    P2 = np.matrix([float(x) for x in calib[2].strip('\\n').split(' ')[1:]]).reshape(3,4)\n",
    "    R0_rect = np.matrix([float(x) for x in calib[4].strip('\\n').split(' ')[1:]]).reshape(3,3)\n",
    "    # Add a 1 in bottom-right, reshape to 4 x 4\n",
    "    R0_rect = np.insert(R0_rect,3,values=[0,0,0],axis=0)\n",
    "    R0_rect = np.insert(R0_rect,3,values=[0,0,0,1],axis=1)\n",
    "    \n",
    "    return P2 * R0_rect"
   ]
  },
  {
   "cell_type": "code",
   "execution_count": 13,
   "id": "4246ef35",
   "metadata": {},
   "outputs": [
    {
     "name": "stdout",
     "output_type": "stream",
     "text": [
      "[[ 7.25995070e+02  9.75088151e+00  6.04164924e+02  4.48572800e+01]\n",
      " [-5.84187278e+00  7.22248117e+02  1.69760552e+02  2.16379100e-01]\n",
      " [ 7.40252700e-03  4.35161400e-03  9.99963100e-01  2.74588400e-03]]\n"
     ]
    }
   ],
   "source": [
    "P2R0 = get_P2R0(0)\n",
    "print(P2R0)"
   ]
  },
  {
   "cell_type": "code",
   "execution_count": 14,
   "id": "a632f97b",
   "metadata": {},
   "outputs": [
    {
     "data": {
      "text/plain": [
       "matrix([[7.215377e+02, 0.000000e+00, 6.095593e+02, 4.485728e+01],\n",
       "        [0.000000e+00, 7.215377e+02, 1.728540e+02, 2.163791e-01],\n",
       "        [0.000000e+00, 0.000000e+00, 1.000000e+00, 2.745884e-03]])"
      ]
     },
     "execution_count": 14,
     "metadata": {},
     "output_type": "execute_result"
    }
   ],
   "source": [
    "P2"
   ]
  },
  {
   "cell_type": "code",
   "execution_count": 15,
   "id": "843c66d2",
   "metadata": {},
   "outputs": [
    {
     "data": {
      "text/plain": [
       "'def equations(p):\\n    xc, yc, zc, w = p\\n    eq1 = (P2[0,0]*xc + P2[0,1]*yc + P2[0,2]*zc + P2[0,3])/ xi - w\\n    eq2 = (P2[1,0]*xc + P2[1,1]*yc + P2[1,2]*zc + P2[1,3])/ yi - w\\n    eq3 = (P2[2,0]*xc + P2[2,1]*yc + P2[2,2]*zc + P2[2,3]) - w\\n    eq4 = xc**2 + yc**2 + zc**2 - d**2\\n    return (eq1,eq2,eq3,eq4)'"
      ]
     },
     "execution_count": 15,
     "metadata": {},
     "output_type": "execute_result"
    }
   ],
   "source": [
    "\"\"\"def equations(p):\n",
    "    xc, yc, zc, w = p\n",
    "    eq1 = (P2[0,0]*xc + P2[0,1]*yc + P2[0,2]*zc + P2[0,3])/ xi - w\n",
    "    eq2 = (P2[1,0]*xc + P2[1,1]*yc + P2[1,2]*zc + P2[1,3])/ yi - w\n",
    "    eq3 = (P2[2,0]*xc + P2[2,1]*yc + P2[2,2]*zc + P2[2,3]) - w\n",
    "    eq4 = xc**2 + yc**2 + zc**2 - d**2\n",
    "    return (eq1,eq2,eq3,eq4)\"\"\""
   ]
  },
  {
   "cell_type": "code",
   "execution_count": 16,
   "id": "65239373",
   "metadata": {},
   "outputs": [
    {
     "data": {
      "text/plain": [
       "'def equations(p):\\n    xc, yc, zc, w = p\\n    eq1 = (P2R0[0,0]*xc + P2R0[0,1]*yc + P2R0[0,2]*zc + P2R0[0,3])/ xi - w\\n    eq2 = (P2R0[1,0]*xc + P2R0[1,1]*yc + P2R0[1,2]*zc + P2R0[1,3])/ yi - w\\n    eq3 = (P2R0[2,0]*xc + P2R0[2,1]*yc + P2R0[2,2]*zc + P2R0[2,3]) - w\\n    eq4 = xc**2 + yc**2 + zc**2 - d**2\\n    return (eq1,eq2,eq3,eq4)'"
      ]
     },
     "execution_count": 16,
     "metadata": {},
     "output_type": "execute_result"
    }
   ],
   "source": [
    "\"\"\"def equations(p):\n",
    "    xc, yc, zc, w = p\n",
    "    eq1 = (P2R0[0,0]*xc + P2R0[0,1]*yc + P2R0[0,2]*zc + P2R0[0,3])/ xi - w\n",
    "    eq2 = (P2R0[1,0]*xc + P2R0[1,1]*yc + P2R0[1,2]*zc + P2R0[1,3])/ yi - w\n",
    "    eq3 = (P2R0[2,0]*xc + P2R0[2,1]*yc + P2R0[2,2]*zc + P2R0[2,3]) - w\n",
    "    eq4 = xc**2 + yc**2 + zc**2 - d**2\n",
    "    return (eq1,eq2,eq3,eq4)\"\"\""
   ]
  },
  {
   "cell_type": "code",
   "execution_count": 31,
   "id": "3699b57e",
   "metadata": {
    "scrolled": true
   },
   "outputs": [
    {
     "name": "stdout",
     "output_type": "stream",
     "text": [
      "[411.585, 224.15]\n",
      "\n",
      "Error:\n",
      "(-1.7763568394002505e-15, 0.0, 0.0, -1.3145040611561853e-13)\n",
      "\n",
      "Error:\n",
      "(-1.7763568394002505e-15, 0.0, 0.0, -1.3145040611561853e-13)\n",
      "\n",
      "Error:\n",
      "(-1.7763568394002505e-15, 0.0, 0.0, -1.3145040611561853e-13)\n",
      "\n",
      "Error:\n",
      "(-1.7763568394002505e-15, 0.0, 0.0, -1.3145040611561853e-13)\n",
      "\n",
      "Error:\n",
      "(-1.7763568394002505e-15, 0.0, 0.0, -1.3145040611561853e-13)\n",
      "\n",
      "Error:\n",
      "(-1.7763568394002505e-15, 0.0, 0.0, -1.3145040611561853e-13)\n",
      "\n",
      "Error:\n",
      "(-1.7763568394002505e-15, 0.0, 0.0, -1.3145040611561853e-13)\n",
      "\n",
      "Error:\n",
      "(-1.7763568394002505e-15, 0.0, 0.0, -1.3145040611561853e-13)\n",
      "\n",
      "Error:\n",
      "(-1.7763568394002505e-15, 0.0, 0.0, -1.3145040611561853e-13)\n",
      "\n",
      "Error:\n",
      "(-1.7763568394002505e-15, 0.0, 0.0, -1.3145040611561853e-13)\n",
      "\n",
      "Error:\n",
      "(-1.7763568394002505e-15, 0.0, 0.0, -1.3145040611561853e-13)\n",
      "\n",
      "Error:\n",
      "(-1.7763568394002505e-15, 0.0, 0.0, -1.3145040611561853e-13)\n",
      "\n",
      "Error:\n",
      "(-1.7763568394002505e-15, 0.0, 0.0, -1.3145040611561853e-13)\n",
      "\n",
      "Error:\n",
      "(-1.7763568394002505e-15, 0.0, 0.0, -1.3145040611561853e-13)\n",
      "\n",
      "Error:\n",
      "(-1.7763568394002505e-15, 0.0, 0.0, -1.3145040611561853e-13)\n",
      "\n",
      "Error:\n",
      "(-1.7763568394002505e-15, 0.0, 0.0, -1.3145040611561853e-13)\n",
      "\n",
      "Error:\n",
      "(-1.7763568394002505e-15, 0.0, 0.0, -1.3145040611561853e-13)\n",
      "\n",
      "Error:\n",
      "(-1.7763568394002505e-15, 0.0, 0.0, -1.3145040611561853e-13)\n",
      "\n",
      "Error:\n",
      "(-1.7763568394002505e-15, 0.0, 0.0, -1.3145040611561853e-13)\n",
      "\n",
      "Error:\n",
      "(-1.7763568394002505e-15, 0.0, 0.0, -1.3145040611561853e-13)\n",
      "[array([-2.48875034,  0.65518022,  4.28682407,  4.28956995]), array([-2.48875034,  0.65518022,  4.28682407,  4.28956995]), array([-2.48875034,  0.65518022,  4.28682407,  4.28956995]), array([-2.48875034,  0.65518022,  4.28682407,  4.28956995]), array([-2.48875034,  0.65518022,  4.28682407,  4.28956995]), array([-2.48875034,  0.65518022,  4.28682407,  4.28956995]), array([-2.48875034,  0.65518022,  4.28682407,  4.28956995]), array([-2.48875034,  0.65518022,  4.28682407,  4.28956995]), array([-2.48875034,  0.65518022,  4.28682407,  4.28956995]), array([-2.48875034,  0.65518022,  4.28682407,  4.28956995]), array([-2.48875034,  0.65518022,  4.28682407,  4.28956995]), array([-2.48875034,  0.65518022,  4.28682407,  4.28956995]), array([-2.48875034,  0.65518022,  4.28682407,  4.28956995]), array([-2.48875034,  0.65518022,  4.28682407,  4.28956995]), array([-2.48875034,  0.65518022,  4.28682407,  4.28956995]), array([-2.48875034,  0.65518022,  4.28682407,  4.28956995]), array([-2.48875034,  0.65518022,  4.28682407,  4.28956995]), array([-2.48875034,  0.65518022,  4.28682407,  4.28956995]), array([-2.48875034,  0.65518022,  4.28682407,  4.28956995]), array([-2.48875034,  0.65518022,  4.28682407,  4.28956995])]\n",
      "0.010560035705566406\n",
      "\n",
      "Error:\n",
      "(3.552713678800501e-15, 3.552713678800501e-15, 0.0, -6.821210263296962e-13)\n",
      "[[-7.19563517]\n",
      " [ 1.84927101]\n",
      " [26.00435985]\n",
      " [ 1.        ]]\n"
     ]
    }
   ],
   "source": [
    "def solve_equation(q):  \n",
    "    xi, yi, d = q\n",
    "    def equations(p):\n",
    "        xc, yc, zc, w = p\n",
    "        eq1 = (P2[0,0]*xc + P2[0,1]*yc + P2[0,2]*zc + P2[0,3])/ xi - w\n",
    "        eq2 = (P2[1,0]*xc + P2[1,1]*yc + P2[1,2]*zc + P2[1,3])/ yi - w\n",
    "        eq3 = (P2[2,0]*xc + P2[2,1]*yc + P2[2,2]*zc + P2[2,3]) - w\n",
    "        eq4 = xc**2 + yc**2 + zc**2 - d**2\n",
    "        return (eq1,eq2,eq3,eq4)\n",
    "    \n",
    "    values = fsolve(equations, (0,0,0,0))\n",
    "    print(\"\\nError:\")\n",
    "    print(equations(values))\n",
    "    return values\n",
    "\n",
    "#point3D = np.array([5.72, 0.865, 18.85, 1])\n",
    "point3D = np.array([-7.12, 1.78, 26.03, 1])\n",
    "#point2D = [833.645, 207.18]\n",
    "point2D = [411.585, 224.15]\n",
    "print(point2D)\n",
    "x_i = point2D[0]\n",
    "y_i = point2D[1]\n",
    "point3D_cam = R0_rect*Tr_velo_to_cam*point3D.reshape(4,1)\n",
    "distance = float(np.sqrt(point3D[0]**2+point3D[1]**2+point3D[2]**2))\n",
    "\n",
    "start = time.time()\n",
    "#p = Pool(8)\n",
    "#xd = list(p.map(solve_equation, [(100,200,20)]*4*10))\n",
    "#p.close()\n",
    "xd = list(map(solve_equation, [(201,283,5)]*20))\n",
    "print(xd)\n",
    "print(time.time()-start)\n",
    "\n",
    "point2D_3D = solve_equation((x_i,y_i,distance))\n",
    "point2D_3D = point2D_3D.reshape(4,1)\n",
    "point2D_3D[3] = 1\n",
    "print(point2D_3D)"
   ]
  },
  {
   "cell_type": "markdown",
   "id": "03f3d5c2",
   "metadata": {},
   "source": [
    "## 2D point to 3D point conversion function in camera coordinates"
   ]
  },
  {
   "cell_type": "code",
   "execution_count": 18,
   "id": "88f36f9d",
   "metadata": {},
   "outputs": [],
   "source": [
    "class LocationSolver:\n",
    "    def __init__(self, P2, inv_R0_rect, inv_Tr_velo_to_cam):\n",
    "        self.P2 = P2\n",
    "        self.inv_R0_rect = inv_R0_rect\n",
    "        self.inv_Tr_velo_to_cam = inv_Tr_velo_to_cam\n",
    "    \n",
    "    def to_3d_camera(self, q):\n",
    "        def equations(p):\n",
    "            xc, yc, zc, w = p\n",
    "            eq1 = (self.P2[0,0]*xc + self.P2[0,1]*yc + self.P2[0,2]*zc + self.P2[0,3])/ xi - w\n",
    "            eq2 = (self.P2[1,0]*xc + self.P2[1,1]*yc + self.P2[1,2]*zc + self.P2[1,3])/ yi - w\n",
    "            eq3 = (self.P2[2,0]*xc + self.P2[2,1]*yc + self.P2[2,2]*zc + self.P2[2,3]) - w\n",
    "            eq4 = xc**2 + yc**2 + zc**2 - d**2\n",
    "            return (eq1,eq2,eq3,eq4)\n",
    "\n",
    "        xi, yi, d = q\n",
    "        values = fsolve(equations, (0,0,0,0))\n",
    "        values = values.reshape(4,1)\n",
    "        values[3] = 1\n",
    "        return values\n",
    "    \n",
    "    def to_3d_lidar(self, points3d_camera):\n",
    "        points3d_lidar = inv_Tr_velo_to_cam * inv_R0_rect * points3d_camera\n",
    "        points3d_lidar = np.squeeze(np.asarray(points3d_lidar))[:3]\n",
    "        return points3d_lidar"
   ]
  },
  {
   "cell_type": "code",
   "execution_count": 19,
   "id": "7cca9a5c",
   "metadata": {},
   "outputs": [],
   "source": [
    "def point2D_distance_to_point3D(points2d, location_solver):\n",
    "    \"\"\"Function for transforming a 2D point together with its distance to a 3D point\n",
    "    input: points2d = [(x_i,y_i,distance)], P2\n",
    "    output: points3d = [(x_c,y_c,z_c)]\n",
    "    \"\"\"\n",
    "    pool = Pool(8)\n",
    "    points3d = np.array(pool.map(location_solver.to_3d_camera, points2d))\n",
    "    pool.close()\n",
    "    return points3d"
   ]
  },
  {
   "cell_type": "code",
   "execution_count": 20,
   "id": "97092039",
   "metadata": {},
   "outputs": [
    {
     "name": "stdout",
     "output_type": "stream",
     "text": [
      "[[[ 5.87189236]\n",
      "  [ 0.90899673]\n",
      "  [19.09697895]\n",
      "  [ 1.        ]]\n",
      "\n",
      " [[-7.97573657]\n",
      "  [ 2.05139867]\n",
      "  [28.84751964]\n",
      "  [ 1.        ]]]\n"
     ]
    }
   ],
   "source": [
    "location_solver = LocationSolver(P2, inv_R0_rect, inv_Tr_velo_to_cam)\n",
    "points3d_c = point2D_distance_to_point3D([(833.645, 207.18, 20),(411.585, 224.15, 30)], location_solver)\n",
    "print(points3d_c)"
   ]
  },
  {
   "cell_type": "markdown",
   "id": "67cde915",
   "metadata": {},
   "source": [
    "## 3D camera to 3D LiDAR coordinate system"
   ]
  },
  {
   "cell_type": "code",
   "execution_count": 21,
   "id": "17b85be9",
   "metadata": {},
   "outputs": [],
   "source": [
    "def point3dcamera_to_point3dlidar(points3d_c, location_solver):\n",
    "    pool = Pool(8)\n",
    "    points3d_l = np.array(pool.map(location_solver.to_3d_lidar, points3d_c))\n",
    "    pool.close()\n",
    "    return points3d_l"
   ]
  },
  {
   "cell_type": "code",
   "execution_count": 22,
   "id": "4dfcd2ed",
   "metadata": {},
   "outputs": [
    {
     "data": {
      "text/plain": [
       "array([[19.37971602, -5.86155509, -0.84362154],\n",
       "       [29.13841034,  7.99858366, -1.73771236]])"
      ]
     },
     "execution_count": 22,
     "metadata": {},
     "output_type": "execute_result"
    }
   ],
   "source": [
    "point3dcamera_to_point3dlidar(points3d_c, location_solver)"
   ]
  },
  {
   "cell_type": "markdown",
   "id": "0be6049f",
   "metadata": {},
   "source": [
    "# Create pyradim planes"
   ]
  },
  {
   "cell_type": "code",
   "execution_count": null,
   "id": "3942c91c",
   "metadata": {},
   "outputs": [],
   "source": []
  },
  {
   "cell_type": "code",
   "execution_count": null,
   "id": "a72349bb",
   "metadata": {},
   "outputs": [],
   "source": []
  },
  {
   "cell_type": "code",
   "execution_count": null,
   "id": "fffe4967",
   "metadata": {},
   "outputs": [],
   "source": []
  },
  {
   "cell_type": "markdown",
   "id": "5b552c01",
   "metadata": {},
   "source": [
    "# Move pointcloud to the origin"
   ]
  },
  {
   "cell_type": "code",
   "execution_count": 23,
   "id": "bbb96427",
   "metadata": {},
   "outputs": [],
   "source": [
    "PATH_TO_PCL = '/media/robesafe/SSD_SATA/KITTI_DATASET/velodyne/000000.bin'\n",
    "PATH_TO_SAVE_NEW_PCL = '/home/robesafe/Javier/3D-detection-system-lidar-camera'"
   ]
  },
  {
   "cell_type": "code",
   "execution_count": 24,
   "id": "d0698d23",
   "metadata": {},
   "outputs": [],
   "source": [
    "# Open pointcloud\n",
    "pcl = np.fromfile(PATH_TO_PCL, dtype=np.float32).reshape(-1, 4)[:,:3]"
   ]
  },
  {
   "cell_type": "code",
   "execution_count": 25,
   "id": "e88d91fa",
   "metadata": {},
   "outputs": [
    {
     "data": {
      "text/plain": [
       "array([[ 1.8324e+01,  4.9000e-02,  8.2900e-01],\n",
       "       [ 1.8344e+01,  1.0600e-01,  8.2900e-01],\n",
       "       [ 5.1299e+01,  5.0500e-01,  1.9440e+00],\n",
       "       ...,\n",
       "       [ 3.7180e+00, -1.4060e+00, -1.7370e+00],\n",
       "       [ 3.7140e+00, -1.3910e+00, -1.7330e+00],\n",
       "       [ 3.9670e+00, -1.4740e+00, -1.8570e+00]], dtype=float32)"
      ]
     },
     "execution_count": 25,
     "metadata": {},
     "output_type": "execute_result"
    }
   ],
   "source": [
    "pcl"
   ]
  },
  {
   "cell_type": "code",
   "execution_count": 26,
   "id": "ed7aa3e2",
   "metadata": {},
   "outputs": [],
   "source": [
    "def move_pcl_to_lidar(pcl, point3d):\n",
    "    new_pcl = np.array(list(map(lambda point_pcl: point_pcl-point3d,pcl)))\n",
    "    return new_pcl"
   ]
  },
  {
   "cell_type": "code",
   "execution_count": 27,
   "id": "781f5f7d",
   "metadata": {},
   "outputs": [
    {
     "data": {
      "text/plain": [
       "array([[ -1.05571662,   5.91055509,   1.67262154],\n",
       "       [ -1.03571616,   5.96755509,   1.67262154],\n",
       "       [ 31.91928377,   6.36655509,   2.78762155],\n",
       "       ...,\n",
       "       [-15.66171608,   4.45555507,  -0.89337845],\n",
       "       [-15.66571603,   4.47055506,  -0.8893785 ],\n",
       "       [-15.41271601,   4.38755511,  -1.01337845]])"
      ]
     },
     "execution_count": 27,
     "metadata": {},
     "output_type": "execute_result"
    }
   ],
   "source": [
    "move_pcl_to_lidar(pcl,np.array([19.37971602, -5.86155509, -0.84362154,]))"
   ]
  },
  {
   "cell_type": "markdown",
   "id": "6db9f0dd",
   "metadata": {},
   "source": [
    "## Example of moving 3D object to the origin of the PCL"
   ]
  },
  {
   "cell_type": "code",
   "execution_count": 28,
   "id": "636471d0",
   "metadata": {},
   "outputs": [
    {
     "name": "stdout",
     "output_type": "stream",
     "text": [
      "[[ 8.61899961  2.52239354 -0.5671274 ]]\n"
     ]
    }
   ],
   "source": [
    "location_solver = LocationSolver(P2, inv_R0_rect, inv_Tr_velo_to_cam)\n",
    "points3d_c = point2D_distance_to_point3D([(397.065, 225.46, 8.733533)], location_solver)\n",
    "points3d_l = point3dcamera_to_point3dlidar(points3d_c, location_solver)\n",
    "print(points3d_l)"
   ]
  },
  {
   "cell_type": "code",
   "execution_count": null,
   "id": "630b4995",
   "metadata": {},
   "outputs": [],
   "source": []
  }
 ],
 "metadata": {
  "kernelspec": {
   "display_name": "Python 3",
   "language": "python",
   "name": "python3"
  },
  "language_info": {
   "codemirror_mode": {
    "name": "ipython",
    "version": 3
   },
   "file_extension": ".py",
   "mimetype": "text/x-python",
   "name": "python",
   "nbconvert_exporter": "python",
   "pygments_lexer": "ipython3",
   "version": "3.6.13"
  }
 },
 "nbformat": 4,
 "nbformat_minor": 5
}
